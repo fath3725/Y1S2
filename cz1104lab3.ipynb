{
 "cells": [
  {
   "cell_type": "code",
   "execution_count": 1,
   "metadata": {},
   "outputs": [],
   "source": [
    "import pandas as pd\n",
    "import numpy as np\n",
    "from numpy import linalg as la\n",
    "import math\n",
    "from scipy import spatial\n",
    "from sklearn import preprocessing"
   ]
  },
  {
   "cell_type": "markdown",
   "metadata": {},
   "source": [
    "# Problem 1"
   ]
  },
  {
   "cell_type": "markdown",
   "metadata": {},
   "source": [
    "1.\tFollow step by step, and code the echelon form method stated below. (Read the step by step account below). Use  your code to test out some matrices and see if they reduce it to echelon form. Because floats are cumbersome to deal with, I allow you to code with entries in GF(2), i.e. entries with only 0s and 1s."
   ]
  },
  {
   "cell_type": "code",
   "execution_count": 2,
   "metadata": {},
   "outputs": [
    {
     "name": "stdout",
     "output_type": "stream",
     "text": [
      "[array([1, 2, 3, 4, 5]), array([0, 2, 3, 4, 5])]\n"
     ]
    }
   ],
   "source": [
    "#sorting rows by the leftmost nonzero\n",
    "rowlist= np.array([[0,2,3,4,5],\n",
    "               [0,0,0,3,2],\n",
    "               [1,2,3,4,5],\n",
    "               [0,0,0,6,7],\n",
    "               [0,0,0,9,9]])\n",
    "\n",
    "new_rowlist = []\n",
    "rows_left =set(range(len(rowlist)))\n",
    "\n",
    "col_label_list= (0,1)\n",
    "\n",
    "for c in col_label_list:\n",
    "    rows_with_nonzero = [r for r in rows_left if rowlist[r][c] != 0]\n",
    "    pivot = rows_with_nonzero[0]\n",
    "    new_rowlist.append(rowlist[pivot])\n",
    "    rows_left.remove(pivot)\n",
    "\n",
    "print(new_rowlist)"
   ]
  },
  {
   "cell_type": "code",
   "execution_count": 3,
   "metadata": {},
   "outputs": [
    {
     "name": "stdout",
     "output_type": "stream",
     "text": [
      "[array([1, 2, 3, 4, 5]), array([0, 2, 3, 4, 5]), array([0, 0, 0, 3, 2]), array([0, 0, 0, 6, 7])]\n"
     ]
    }
   ],
   "source": [
    "#the fixing such that it runs for all columns with no 0 but it is not in echelon form\n",
    "col_label_list= (0,1,2,3,4)\n",
    "for c in col_label_list:\n",
    "    rows_with_nonzero = [r for r in rows_left if rowlist[r][c] != 0]\n",
    "    if rows_with_nonzero != []:\n",
    "        pivot = rows_with_nonzero[0]\n",
    "        new_rowlist.append(rowlist[pivot])\n",
    "        rows_left.remove(pivot)\n",
    "\n",
    "print(new_rowlist)"
   ]
  },
  {
   "cell_type": "code",
   "execution_count": 4,
   "metadata": {},
   "outputs": [
    {
     "name": "stdout",
     "output_type": "stream",
     "text": [
      "[array([1, 2, 3, 4, 5]), array([0, 2, 3, 4, 5]), array([0, 0, 0, 3, 2]), array([0, 0, 0, 0, 3])]\n"
     ]
    }
   ],
   "source": [
    "#elementary row addtion operation to fix the algo\n",
    "\n",
    "rowlist= np.array([[0,2,3,4,5],\n",
    "               [0,0,0,3,2],\n",
    "               [1,2,3,4,5],\n",
    "               [0,0,0,6,7],\n",
    "               [0,0,0,9,8]])\n",
    "new_rowlist = []\n",
    "rows_left =set(range(len(rowlist)))\n",
    "\n",
    "col_label_list= (0,1,2,3,4)\n",
    "for c in col_label_list:\n",
    "    rows_with_nonzero = [r for r in rows_left if rowlist[r][c] != 0]\n",
    "    if rows_with_nonzero != []:\n",
    "        pivot = rows_with_nonzero[0]\n",
    "        new_rowlist.append(rowlist[pivot])\n",
    "        rows_left.remove(pivot)\n",
    "        for r in rows_with_nonzero[1:]:\n",
    "            multiplier = int(rowlist[r][c]/rowlist[pivot][c])\n",
    "            rowlist[r] -= multiplier*rowlist[pivot]\n",
    "\n",
    "print(new_rowlist)"
   ]
  },
  {
   "cell_type": "markdown",
   "metadata": {},
   "source": [
    "Trying out with other matrices"
   ]
  },
  {
   "cell_type": "code",
   "execution_count": 5,
   "metadata": {},
   "outputs": [
    {
     "name": "stdout",
     "output_type": "stream",
     "text": [
      "[array([1, 2, 3, 4, 5]), array([0, 2, 3, 4, 5])]\n",
      "[array([1, 2, 3, 4, 5]), array([0, 2, 3, 4, 5]), array([0, 0, 0, 6, 7]), array([0, 0, 0, 3, 2])]\n",
      "[array([1, 2, 3, 4, 5]), array([0, 2, 3, 4, 5]), array([0, 0, 0, 6, 7]), array([0, 0, 0, 3, 2])]\n"
     ]
    }
   ],
   "source": [
    "rowlist= np.array([[0,0,0,6,7],\n",
    "               [1,2,3,4,5],\n",
    "               [0,0,0,3,2],\n",
    "               [0,2,3,4,5],\n",
    "               [0,0,0,9,9]])\n",
    "\n",
    "new_rowlist = []\n",
    "rows_left =set(range(len(rowlist)))\n",
    "\n",
    "col_label_list= (0,1)\n",
    "\n",
    "for c in col_label_list:\n",
    "    rows_with_nonzero = [r for r in rows_left if rowlist[r][c] != 0]\n",
    "    pivot = rows_with_nonzero[0]\n",
    "    new_rowlist.append(rowlist[pivot])\n",
    "    rows_left.remove(pivot)\n",
    "\n",
    "print(new_rowlist)\n",
    "\n",
    "#the fixing such that it runs for all columns with no 0 but it is not in echelon form\n",
    "col_label_list= (0,1,2,3,4)\n",
    "for c in col_label_list:\n",
    "    rows_with_nonzero = [r for r in rows_left if rowlist[r][c] != 0]\n",
    "    if rows_with_nonzero != []:\n",
    "        pivot = rows_with_nonzero[0]\n",
    "        new_rowlist.append(rowlist[pivot])\n",
    "        rows_left.remove(pivot)\n",
    "\n",
    "print(new_rowlist)\n",
    "\n",
    "#elementary row addtion operation to fix the algo\n",
    "\n",
    "rowlist= np.array([[0,0,0,6,7],\n",
    "               [1,2,3,4,5],\n",
    "               [0,0,0,3,2],\n",
    "               [0,2,3,4,5],\n",
    "               [0,0,0,9,9]])\n",
    "new_rowlist = []\n",
    "rows_left =set(range(len(rowlist)))\n",
    "\n",
    "col_label_list= (0,1,2,3,4)\n",
    "for c in col_label_list:\n",
    "    rows_with_nonzero = [r for r in rows_left if rowlist[r][c] != 0]\n",
    "    if rows_with_nonzero != []:\n",
    "        pivot = rows_with_nonzero[0]\n",
    "        new_rowlist.append(rowlist[pivot])\n",
    "        rows_left.remove(pivot)\n",
    "        for r in rows_with_nonzero[1:]:\n",
    "            multiplier = int(rowlist[r][c]/rowlist[pivot][c])\n",
    "            rowlist[r] -= multiplier*rowlist[pivot]\n",
    "\n",
    "print(new_rowlist)"
   ]
  },
  {
   "cell_type": "code",
   "execution_count": 6,
   "metadata": {},
   "outputs": [
    {
     "name": "stdout",
     "output_type": "stream",
     "text": [
      "[array([1, 2, 3, 4, 5]), array([0, 2, 3, 4, 5])]\n",
      "[array([1, 2, 3, 4, 5]), array([0, 2, 3, 4, 5]), array([0, 0, 0, 6, 7]), array([0, 0, 0, 9, 9])]\n",
      "[array([1, 2, 3, 4, 5]), array([0, 2, 3, 4, 5]), array([0, 0, 0, 6, 7]), array([0, 0, 0, 3, 2])]\n"
     ]
    }
   ],
   "source": [
    "rowlist= np.array([[0,0,0,6,7],\n",
    "               [0,0,0,9,9],\n",
    "               [0,2,3,4,5],\n",
    "               [0,0,0,3,2],\n",
    "               [1,2,3,4,5]])\n",
    "\n",
    "new_rowlist = []\n",
    "rows_left =set(range(len(rowlist)))\n",
    "\n",
    "col_label_list= (0,1)\n",
    "\n",
    "for c in col_label_list:\n",
    "    rows_with_nonzero = [r for r in rows_left if rowlist[r][c] != 0]\n",
    "    pivot = rows_with_nonzero[0]\n",
    "    new_rowlist.append(rowlist[pivot])\n",
    "    rows_left.remove(pivot)\n",
    "\n",
    "print(new_rowlist)\n",
    "\n",
    "#the fixing such that it runs for all columns with no 0 but it is not in echelon form\n",
    "col_label_list= (0,1,2,3,4)\n",
    "for c in col_label_list:\n",
    "    rows_with_nonzero = [r for r in rows_left if rowlist[r][c] != 0]\n",
    "    if rows_with_nonzero != []:\n",
    "        pivot = rows_with_nonzero[0]\n",
    "        new_rowlist.append(rowlist[pivot])\n",
    "        rows_left.remove(pivot)\n",
    "\n",
    "print(new_rowlist)\n",
    "\n",
    "#elementary row addtion operation to fix the algo\n",
    "\n",
    "rowlist= np.array([[0,0,0,6,7],\n",
    "               [0,0,0,9,9],\n",
    "               [0,2,3,4,5],\n",
    "               [0,0,0,3,2],\n",
    "               [1,2,3,4,5]])\n",
    "new_rowlist = []\n",
    "rows_left =set(range(len(rowlist)))\n",
    "\n",
    "col_label_list= (0,1,2,3,4)\n",
    "for c in col_label_list:\n",
    "    rows_with_nonzero = [r for r in rows_left if rowlist[r][c] != 0]\n",
    "    if rows_with_nonzero != []:\n",
    "        pivot = rows_with_nonzero[0]\n",
    "        new_rowlist.append(rowlist[pivot])\n",
    "        rows_left.remove(pivot)\n",
    "        for r in rows_with_nonzero[1:]:\n",
    "            multiplier = int(rowlist[r][c]/rowlist[pivot][c])\n",
    "            rowlist[r] -= multiplier*rowlist[pivot]\n",
    "\n",
    "print(new_rowlist)"
   ]
  },
  {
   "cell_type": "markdown",
   "metadata": {},
   "source": [
    "# Problem 2"
   ]
  },
  {
   "cell_type": "markdown",
   "metadata": {},
   "source": [
    "2.\tAlso do Gaussian Elimination over GF(2), which is much easier. Gaussian elimination over real numbers involves floats, and can be very tricky. Again test it with some matrices. (Pls Read step by step account below)."
   ]
  },
  {
   "cell_type": "code",
   "execution_count": 59,
   "metadata": {},
   "outputs": [
    {
     "name": "stdout",
     "output_type": "stream",
     "text": [
      "[array([1, 0, 1, 1]), array([0, 1, 0, 0]), array([0, 0, 1, 1]), array([0, 0, 0, 1])]\n"
     ]
    }
   ],
   "source": [
    "rowlist= np.array([[0,0,1,1],\n",
    "               [1,0,1,1],\n",
    "               [1,0,0,1],\n",
    "               [1,1,1,1]])\n",
    "\n",
    "new_rowlist = []\n",
    "col_label_list= (0,1,2,3)\n",
    "row_label_list = (0,1,2,3)\n",
    "rows_left =set(range(len(rowlist)))\n",
    "\n",
    "for c in col_label_list:\n",
    "    rows_with_nonzero = [r for r in rows_left if rowlist[r][c] != 0]\n",
    "    if rows_with_nonzero != []:\n",
    "        pivot = rows_with_nonzero[0] # select pivot row\n",
    "        new_rowlist.append(rowlist[pivot])\n",
    "        rows_left.remove(pivot)\n",
    "        for r in rows_with_nonzero[1:]:\n",
    "            rowlist[r] += rowlist[pivot] # add pivot row to non zero row rowlist[] += pivot\n",
    "\n",
    " # convert matrix to binary           \n",
    "for j in col_label_list:\n",
    "    for i in row_label_list:\n",
    "        check = new_rowlist[i][j]%2\n",
    "        if check == 0:\n",
    "            new_rowlist[i][j] = 0\n",
    "        else:\n",
    "             new_rowlist[i][j] = 1\n",
    "            \n",
    "        \n",
    "print(new_rowlist)"
   ]
  },
  {
   "cell_type": "markdown",
   "metadata": {},
   "source": [
    "Trying out with other matrices"
   ]
  },
  {
   "cell_type": "code",
   "execution_count": 63,
   "metadata": {},
   "outputs": [
    {
     "name": "stdout",
     "output_type": "stream",
     "text": [
      "[array([1, 0, 1, 1]), array([0, 1, 0, 0]), array([0, 0, 1, 1]), array([0, 0, 1, 1])]\n"
     ]
    }
   ],
   "source": [
    "rowlist= np.array([[1,0,1,1],\n",
    "               [1,1,1,1],\n",
    "               [0,0,1,1],\n",
    "               [1,1,1,1]])\n",
    "\n",
    "new_rowlist = []\n",
    "col_label_list= (0,1,2,3)\n",
    "row_label_list = (0,1,2,3)\n",
    "rows_left =set(range(len(rowlist)))\n",
    "\n",
    "for c in col_label_list:\n",
    "    rows_with_nonzero = [r for r in rows_left if rowlist[r][c] != 0]\n",
    "    if rows_with_nonzero != []:\n",
    "        pivot = rows_with_nonzero[0] # select pivot row\n",
    "        new_rowlist.append(rowlist[pivot])\n",
    "        rows_left.remove(pivot)\n",
    "        for r in rows_with_nonzero[1:]:\n",
    "            rowlist[r] += rowlist[pivot] # add pivot row to non zero row rowlist[] += pivot\n",
    "\n",
    " # convert matrix to binary           \n",
    "for j in col_label_list:\n",
    "    for i in row_label_list:\n",
    "        check = new_rowlist[i][j]%2\n",
    "        if check == 0:\n",
    "            new_rowlist[i][j] = 0\n",
    "        else:\n",
    "             new_rowlist[i][j] = 1\n",
    "            \n",
    "        \n",
    "print(new_rowlist)"
   ]
  },
  {
   "cell_type": "code",
   "execution_count": 64,
   "metadata": {},
   "outputs": [
    {
     "name": "stdout",
     "output_type": "stream",
     "text": [
      "[array([1, 0, 1, 1]), array([0, 1, 1, 1]), array([0, 0, 0, 1]), array([0, 0, 1, 1])]\n"
     ]
    }
   ],
   "source": [
    "rowlist= np.array([[0,1,1,1],\n",
    "               [1,0,1,1],\n",
    "               [1,1,0,1],\n",
    "               [0,1,0,1]])\n",
    "\n",
    "new_rowlist = []\n",
    "col_label_list= (0,1,2,3)\n",
    "row_label_list = (0,1,2,3)\n",
    "rows_left =set(range(len(rowlist)))\n",
    "\n",
    "for c in col_label_list:\n",
    "    rows_with_nonzero = [r for r in rows_left if rowlist[r][c] != 0]\n",
    "    if rows_with_nonzero != []:\n",
    "        pivot = rows_with_nonzero[0] # select pivot row\n",
    "        new_rowlist.append(rowlist[pivot])\n",
    "        rows_left.remove(pivot)\n",
    "        for r in rows_with_nonzero[1:]:\n",
    "            rowlist[r] += rowlist[pivot] # add pivot row to non zero row rowlist[] += pivot\n",
    "\n",
    " # convert matrix to binary           \n",
    "for j in col_label_list:\n",
    "    for i in row_label_list:\n",
    "        check = new_rowlist[i][j]%2\n",
    "        if check == 0:\n",
    "            new_rowlist[i][j] = 0\n",
    "        else:\n",
    "             new_rowlist[i][j] = 1\n",
    "            \n",
    "        \n",
    "print(new_rowlist)"
   ]
  }
 ],
 "metadata": {
  "kernelspec": {
   "display_name": "Python 3",
   "language": "python",
   "name": "python3"
  },
  "language_info": {
   "codemirror_mode": {
    "name": "ipython",
    "version": 3
   },
   "file_extension": ".py",
   "mimetype": "text/x-python",
   "name": "python",
   "nbconvert_exporter": "python",
   "pygments_lexer": "ipython3",
   "version": "3.8.5"
  }
 },
 "nbformat": 4,
 "nbformat_minor": 4
}
